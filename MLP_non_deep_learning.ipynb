{
 "cells": [
  {
   "cell_type": "code",
   "execution_count": 2,
   "id": "8e770e8c",
   "metadata": {},
   "outputs": [],
   "source": [
    "import numpy as np # linear algebra\n",
    "import pandas as pd\n",
    "import matplotlib.pyplot as plt\n",
    "%matplotlib inline \n",
    "import seaborn as sns\n",
    "from sklearn.neural_network import MLPClassifier\n",
    "from sklearn.model_selection import train_test_split\n",
    "from sklearn.metrics import accuracy_score\n",
    "from sklearn.metrics import confusion_matrix"
   ]
  },
  {
   "cell_type": "code",
   "execution_count": 4,
   "id": "07822910",
   "metadata": {},
   "outputs": [],
   "source": [
    "csv_file = pd.read_csv(\"E:/Pregnancy_prediction/Cleened_Dataset_Final.csv\")"
   ]
  },
  {
   "cell_type": "code",
   "execution_count": 5,
   "id": "f60b1ee1",
   "metadata": {},
   "outputs": [],
   "source": [
    "x = csv_file[['Age', 'SystolicBP', 'DiastolicBP', 'BS', 'BodyTemp', 'HeartRate']]\n",
    "y = csv_file['RiskLevel']"
   ]
  },
  {
   "cell_type": "code",
   "execution_count": 8,
   "id": "34083a85",
   "metadata": {},
   "outputs": [],
   "source": [
    "x_train,x_test,y_train,y_test=train_test_split(x,y,test_size=.20)"
   ]
  },
  {
   "cell_type": "code",
   "execution_count": 9,
   "id": "53b0fa43",
   "metadata": {},
   "outputs": [],
   "source": [
    "clf = MLPClassifier(hidden_layer_sizes=(100,100,100), max_iter=500, alpha=0.0001,\n",
    "                     solver='sgd', verbose=10,  random_state=21,tol=0.000000001)"
   ]
  },
  {
   "cell_type": "code",
   "execution_count": 10,
   "id": "2097fb40",
   "metadata": {},
   "outputs": [
    {
     "name": "stdout",
     "output_type": "stream",
     "text": [
      "Iteration 1, loss = 17.74790228\n",
      "Iteration 2, loss = 4.82683619\n",
      "Iteration 3, loss = 1.37585771\n",
      "Iteration 4, loss = 1.13046660\n",
      "Iteration 5, loss = 1.05039852\n",
      "Iteration 6, loss = 1.01273009\n",
      "Iteration 7, loss = 1.00680920\n",
      "Iteration 8, loss = 1.05636615\n",
      "Iteration 9, loss = 1.02379718\n",
      "Iteration 10, loss = 0.95681099\n",
      "Iteration 11, loss = 0.95800832\n",
      "Iteration 12, loss = 1.10282491\n",
      "Iteration 13, loss = 0.98126233\n",
      "Iteration 14, loss = 0.93703739\n",
      "Iteration 15, loss = 0.92141388\n",
      "Iteration 16, loss = 0.91357584\n",
      "Iteration 17, loss = 0.90762102\n",
      "Iteration 18, loss = 0.89507427\n",
      "Iteration 19, loss = 0.92630307\n",
      "Iteration 20, loss = 0.98515316\n",
      "Iteration 21, loss = 0.90519926\n",
      "Iteration 22, loss = 0.92087255\n",
      "Iteration 23, loss = 0.96734173\n",
      "Iteration 24, loss = 0.86445314\n",
      "Iteration 25, loss = 0.85742655\n",
      "Iteration 26, loss = 0.84471460\n",
      "Iteration 27, loss = 0.84685429\n",
      "Iteration 28, loss = 0.84811033\n",
      "Iteration 29, loss = 0.95745904\n",
      "Iteration 30, loss = 0.85455615\n",
      "Iteration 31, loss = 0.85768341\n",
      "Iteration 32, loss = 0.83545301\n",
      "Iteration 33, loss = 0.87060723\n",
      "Iteration 34, loss = 0.85297407\n",
      "Iteration 35, loss = 0.81934695\n",
      "Iteration 36, loss = 0.97892653\n",
      "Iteration 37, loss = 0.83520512\n",
      "Iteration 38, loss = 0.81752726\n",
      "Iteration 39, loss = 0.81646870\n",
      "Iteration 40, loss = 0.83315260\n",
      "Iteration 41, loss = 0.86979092\n",
      "Iteration 42, loss = 0.85720698\n",
      "Iteration 43, loss = 0.83156992\n",
      "Iteration 44, loss = 0.88243445\n",
      "Iteration 45, loss = 0.86180952\n",
      "Iteration 46, loss = 0.79963404\n",
      "Iteration 47, loss = 0.80264843\n",
      "Iteration 48, loss = 0.82585115\n",
      "Iteration 49, loss = 0.78430776\n",
      "Iteration 50, loss = 0.85182312\n",
      "Iteration 51, loss = 0.80275703\n",
      "Iteration 52, loss = 0.89333574\n",
      "Iteration 53, loss = 0.80290657\n",
      "Iteration 54, loss = 0.79748660\n",
      "Iteration 55, loss = 0.78461702\n",
      "Iteration 56, loss = 0.81066801\n",
      "Iteration 57, loss = 0.79686818\n",
      "Iteration 58, loss = 0.79036867\n",
      "Iteration 59, loss = 0.78168130\n",
      "Iteration 60, loss = 0.77612092\n",
      "Iteration 61, loss = 0.82068353\n",
      "Iteration 62, loss = 0.83277491\n",
      "Iteration 63, loss = 0.77866074\n",
      "Iteration 64, loss = 0.76342971\n",
      "Iteration 65, loss = 0.76493733\n",
      "Iteration 66, loss = 0.76466309\n",
      "Iteration 67, loss = 0.78969905\n",
      "Iteration 68, loss = 0.77387193\n",
      "Iteration 69, loss = 0.78353955\n",
      "Iteration 70, loss = 0.75629426\n",
      "Iteration 71, loss = 0.74668036\n",
      "Iteration 72, loss = 0.78494656\n",
      "Iteration 73, loss = 0.77669298\n",
      "Iteration 74, loss = 0.77233232\n",
      "Iteration 75, loss = 0.76666660\n",
      "Iteration 76, loss = 0.75437935\n",
      "Iteration 77, loss = 0.76059172\n",
      "Iteration 78, loss = 0.74932136\n",
      "Iteration 79, loss = 0.78316416\n",
      "Iteration 80, loss = 0.92695535\n",
      "Iteration 81, loss = 0.77768308\n",
      "Iteration 82, loss = 0.76654727\n",
      "Training loss did not improve more than tol=0.000000 for 10 consecutive epochs. Stopping.\n"
     ]
    }
   ],
   "source": [
    "clf.fit(x_train, y_train)\n",
    "y_pred = clf.predict(x_test)"
   ]
  },
  {
   "cell_type": "code",
   "execution_count": 11,
   "id": "b8bedf95",
   "metadata": {},
   "outputs": [
    {
     "data": {
      "text/plain": [
       "0.6432748538011696"
      ]
     },
     "execution_count": 11,
     "metadata": {},
     "output_type": "execute_result"
    }
   ],
   "source": [
    "accuracy_score(y_test, y_pred)"
   ]
  },
  {
   "cell_type": "code",
   "execution_count": 12,
   "id": "2baab817",
   "metadata": {},
   "outputs": [
    {
     "data": {
      "text/plain": [
       "array([[32, 19,  3],\n",
       "       [20, 40,  4],\n",
       "       [ 3, 12, 38]], dtype=int64)"
      ]
     },
     "execution_count": 12,
     "metadata": {},
     "output_type": "execute_result"
    }
   ],
   "source": [
    "cm = confusion_matrix(y_test, y_pred)\n",
    "cm"
   ]
  },
  {
   "cell_type": "code",
   "execution_count": 13,
   "id": "24e67373",
   "metadata": {},
   "outputs": [
    {
     "data": {
      "image/png": "[encoded data removed]",
      "text/plain": [
       "<Figure size 640x480 with 2 Axes>"
      ]
     },
     "metadata": {},
     "output_type": "display_data"
    }
   ],
   "source": [
    "sns.heatmap(cm, center=True)\n",
    "plt.show()"
   ]
  },
  {
   "cell_type": "code",
   "execution_count": null,
   "id": "cee4d60e",
   "metadata": {},
   "outputs": [],
   "source": []
  }
 ],
 "metadata": {
  "kernelspec": {
   "display_name": "Python 3 (ipykernel)",
   "language": "python",
   "name": "python3"
  },
  "language_info": {
   "codemirror_mode": {
    "name": "ipython",
    "version": 3
   },
   "file_extension": ".py",
   "mimetype": "text/x-python",
   "name": "python",
   "nbconvert_exporter": "python",
   "pygments_lexer": "ipython3",
   "version": "3.9.13"
  }
 },
 "nbformat": 4,
 "nbformat_minor": 5
}
